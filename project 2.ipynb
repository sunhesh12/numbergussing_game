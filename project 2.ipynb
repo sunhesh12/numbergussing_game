{
 "cells": [
  {
   "cell_type": "code",
   "execution_count": null,
   "id": "08927630",
   "metadata": {},
   "outputs": [],
   "source": [
    "import random"
   ]
  },
  {
   "cell_type": "code",
   "execution_count": null,
   "id": "6299a981",
   "metadata": {},
   "outputs": [],
   "source": [
    "rnum=random.randint(1,20)\n",
    "unum=int(input(\"enter your guss: \"))\n",
    "c=1\n",
    "while rnum!=unum:\n",
    "    if unum>=1 and unum<=20:\n",
    "        print(\"Your guess is incorrect\")\n",
    "        if rnum<unum:\n",
    "            print(\"Please try a lower value\")\n",
    "        else:\n",
    "            print(\"Please try a higher value\")\n",
    "        unum=int(input(\"enter your guss: \"))    \n",
    "        c+=1\n",
    "        \n",
    "    else:\n",
    "        print(\"Restart the game adn try a value betwwen 1 to 20\")\n",
    "        break\n",
    "        \n",
    "else:\n",
    "    if c<=5:\n",
    "        print(\"You won the game\")\n",
    "        print(\"random value \"+ str(rnum))\n",
    "    else:\n",
    "        print(\"random value \"+ str(rnum))\n",
    "        print(\"You have lost.You have tried{} attempts.Tryagain\".format(c))\n",
    "    "
   ]
  },
  {
   "cell_type": "code",
   "execution_count": null,
   "id": "2fd38e82",
   "metadata": {},
   "outputs": [],
   "source": [
    "def gussnumber(a,b):\n",
    "    import random\n",
    "    rnum=random.randint(a,b)\n",
    "    unum=int(input(\"enter your guss: \"))\n",
    "    c=1\n",
    "    while rnum!=unum:\n",
    "        if unum>=a and unum<=b:\n",
    "            print(\"Your guess is incorrect\")\n",
    "            if rnum<unum:\n",
    "                print(\"Please try a lower value\")\n",
    "            else:\n",
    "                print(\"Please try a higher value\")\n",
    "            unum=int(input(\"enter your guss: \"))    \n",
    "            c+=1\n",
    "\n",
    "        else:\n",
    "            print(f\"Restart the game adn try a value betwwen {a} to {b}\")\n",
    "            break\n",
    "\n",
    "    else:\n",
    "        if c<=5:\n",
    "            print(\"You won the game\")\n",
    "            print(\"random value \"+str(rnum))\n",
    "        else:\n",
    "            print(\"random value \"+str(rnum))\n",
    "            print(\"You have lost.You have tried{} attempts.Tryagain\".format(c))"
   ]
  },
  {
   "cell_type": "code",
   "execution_count": null,
   "id": "73d10a30",
   "metadata": {},
   "outputs": [],
   "source": [
    "gussnumber(1,3)"
   ]
  },
  {
   "cell_type": "code",
   "execution_count": null,
   "id": "4835e595",
   "metadata": {},
   "outputs": [],
   "source": []
  }
 ],
 "metadata": {
  "kernelspec": {
   "display_name": "Python 3 (ipykernel)",
   "language": "python",
   "name": "python3"
  },
  "language_info": {
   "codemirror_mode": {
    "name": "ipython",
    "version": 3
   },
   "file_extension": ".py",
   "mimetype": "text/x-python",
   "name": "python",
   "nbconvert_exporter": "python",
   "pygments_lexer": "ipython3",
   "version": "3.9.12"
  }
 },
 "nbformat": 4,
 "nbformat_minor": 5
}
